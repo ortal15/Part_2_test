{
 "cells": [
  {
   "cell_type": "code",
   "execution_count": 1,
   "id": "1e0ddeb7-1310-4187-8428-33cc6032366e",
   "metadata": {},
   "outputs": [],
   "source": [
    "import numpy as np\n",
    "import pandas as pd\n",
    "import matplotlib.pyplot as plt\n",
    "import seaborn as sns\n",
    "from IPython.display import display"
   ]
  },
  {
   "cell_type": "code",
   "execution_count": 3,
   "id": "e982692a-fa4d-4fe7-b8aa-0a04f345d68e",
   "metadata": {},
   "outputs": [],
   "source": [
    "Items = pd.read_csv('Items.csv')\n",
    "customers = pd.read_csv('customers.csv')\n",
    "order_item = pd.read_csv('order_item.csv')\n",
    "orders = pd.read_csv('orders.csv')"
   ]
  },
  {
   "cell_type": "code",
   "execution_count": 5,
   "id": "4efe7d17-a650-49bc-9cc5-10603a209cc4",
   "metadata": {},
   "outputs": [
    {
     "data": {
      "text/plain": [
       "item_name\n",
       "Action Camera          2694.250000\n",
       "Antivirus Software     4186.620000\n",
       "Blu-Ray Player         3382.860000\n",
       "Camcorder               860.010000\n",
       "Camera                 1700.503333\n",
       "Computer Monitor       4076.350000\n",
       "Dash Camera            1283.990000\n",
       "Desktop                 922.715000\n",
       "Drone                  2951.270000\n",
       "External Hard Drive    1251.360000\n",
       "Fitness Tracker        2997.290000\n",
       "Gaming Chair            417.160000\n",
       "HDMI Cable             1710.840000\n",
       "Headphone              2217.375000\n",
       "Keyboard                604.180000\n",
       "Laptop                 3002.465000\n",
       "Micro SD Card          3238.230000\n",
       "Modem                  3256.880000\n",
       "Mouse                  1333.040000\n",
       "Office Software        3454.820000\n",
       "Portable Charger       1523.270000\n",
       "Power Strip            3344.900000\n",
       "Printer                3940.075000\n",
       "Smart Watch            1160.155000\n",
       "Smartphone             2239.380000\n",
       "Speaker                4462.585000\n",
       "Surge Protector         488.390000\n",
       "Tablet                 2173.130000\n",
       "Television              963.886667\n",
       "USB Flash Drive        1150.870000\n",
       "VR Headset             1905.010000\n",
       "Video Game             1890.030000\n",
       "Video Game Console      689.610000\n",
       "Webcam                 4227.360000\n",
       "Wi-Fi Router           3812.530000\n",
       "Wireless Charger        241.540000\n",
       "Name: item_price, dtype: float64"
      ]
     },
     "execution_count": 5,
     "metadata": {},
     "output_type": "execute_result"
    }
   ],
   "source": [
    "#1\n",
    "Items.groupby('item_name')['item_price'].mean()"
   ]
  },
  {
   "cell_type": "code",
   "execution_count": 17,
   "id": "c63d2904-6e9d-4ca3-bea7-284a8b8c2ad4",
   "metadata": {},
   "outputs": [
    {
     "name": "stdout",
     "output_type": "stream",
     "text": [
      "   first_name last_name  quantity\n",
      "90     Ellary    Ledner        45\n"
     ]
    }
   ],
   "source": [
    "# 2\n",
    "merged_df = pd.merge(order_item, orders, on='order_id', how='left')\n",
    "full_df = pd.merge(merged_df, customers, left_on='customer_id', right_on='id', how='left')\n",
    "result = full_df.groupby(['first_name', 'last_name'])['quantity'].sum().reset_index()\n",
    "\n",
    "top_customer = result.sort_values(by='quantity', ascending=False).head(1)\n",
    "print(top_customer)\n"
   ]
  },
  {
   "cell_type": "code",
   "execution_count": 29,
   "id": "8a60b2d3-7478-4b88-8a71-4b0613bc7e3b",
   "metadata": {},
   "outputs": [
    {
     "name": "stdout",
     "output_type": "stream",
     "text": [
      "הרכישה היקרה ביותר: 40241.43000000001\n",
      "הרכישה הזולה ביותר: 241.54\n",
      "המחיר הממוצע לרכישה: 6728.2549895833345\n"
     ]
    }
   ],
   "source": [
    "#5\n",
    "merged = pd.merge(order_item, Items, left_on='item_id', right_on='id', how='left')\n",
    "merged['total_price'] = merged['quantity'] * merged['item_price']\n",
    "max_price = merged['total_price'].max()\n",
    "min_price = merged['total_price'].min()\n",
    "avg_price = merged['total_price'].mean()\n",
    "\n",
    "print('הרכישה היקרה ביותר:', max_price)\n",
    "print('הרכישה הזולה ביותר:', min_price)\n",
    "print('המחיר הממוצע לרכישה:', avg_price)"
   ]
  }
 ],
 "metadata": {
  "kernelspec": {
   "display_name": "Python [conda env:base] *",
   "language": "python",
   "name": "conda-base-py"
  },
  "language_info": {
   "codemirror_mode": {
    "name": "ipython",
    "version": 3
   },
   "file_extension": ".py",
   "mimetype": "text/x-python",
   "name": "python",
   "nbconvert_exporter": "python",
   "pygments_lexer": "ipython3",
   "version": "3.12.7"
  }
 },
 "nbformat": 4,
 "nbformat_minor": 5
}
